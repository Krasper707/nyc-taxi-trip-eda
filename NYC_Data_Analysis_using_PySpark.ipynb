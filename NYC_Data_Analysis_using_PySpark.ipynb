{
  "nbformat": 4,
  "nbformat_minor": 0,
  "metadata": {
    "colab": {
      "provenance": []
    },
    "kernelspec": {
      "name": "python3",
      "display_name": "Python 3"
    },
    "language_info": {
      "name": "python"
    }
  },
  "cells": [
    {
      "cell_type": "code",
      "execution_count": 1,
      "metadata": {
        "id": "Op18-RWrmSLW"
      },
      "outputs": [],
      "source": [
        "!pip install pyspark --quiet"
      ]
    },
    {
      "cell_type": "code",
      "source": [
        "import pandas as pd\n",
        "import seaborn as sns\n",
        "import matplotlib.pyplot as plt\n"
      ],
      "metadata": {
        "id": "aMtQQI2uqbbw"
      },
      "execution_count": 42,
      "outputs": []
    },
    {
      "cell_type": "code",
      "source": [
        "\n",
        "from pyspark.sql import SparkSession\n",
        "\n",
        "spark = SparkSession.builder \\\n",
        "    .appName(\"NYCTaxiAnalysis\") \\\n",
        "    .getOrCreate()\n",
        "df = spark.read.parquet(\"/content/yellow_tripdata_2025-01.parquet\")\n",
        "\n",
        "df.printSchema()\n",
        "df.show(5)\n"
      ],
      "metadata": {
        "colab": {
          "base_uri": "https://localhost:8080/"
        },
        "id": "50bd5gnSmrG8",
        "outputId": "1b925a2c-a3d6-4ab9-9385-4e57e4301120"
      },
      "execution_count": 19,
      "outputs": [
        {
          "output_type": "stream",
          "name": "stdout",
          "text": [
            "root\n",
            " |-- VendorID: integer (nullable = true)\n",
            " |-- tpep_pickup_datetime: timestamp_ntz (nullable = true)\n",
            " |-- tpep_dropoff_datetime: timestamp_ntz (nullable = true)\n",
            " |-- passenger_count: long (nullable = true)\n",
            " |-- trip_distance: double (nullable = true)\n",
            " |-- RatecodeID: long (nullable = true)\n",
            " |-- store_and_fwd_flag: string (nullable = true)\n",
            " |-- PULocationID: integer (nullable = true)\n",
            " |-- DOLocationID: integer (nullable = true)\n",
            " |-- payment_type: long (nullable = true)\n",
            " |-- fare_amount: double (nullable = true)\n",
            " |-- extra: double (nullable = true)\n",
            " |-- mta_tax: double (nullable = true)\n",
            " |-- tip_amount: double (nullable = true)\n",
            " |-- tolls_amount: double (nullable = true)\n",
            " |-- improvement_surcharge: double (nullable = true)\n",
            " |-- total_amount: double (nullable = true)\n",
            " |-- congestion_surcharge: double (nullable = true)\n",
            " |-- Airport_fee: double (nullable = true)\n",
            "\n",
            "+--------+--------------------+---------------------+---------------+-------------+----------+------------------+------------+------------+------------+-----------+-----+-------+----------+------------+---------------------+------------+--------------------+-----------+\n",
            "|VendorID|tpep_pickup_datetime|tpep_dropoff_datetime|passenger_count|trip_distance|RatecodeID|store_and_fwd_flag|PULocationID|DOLocationID|payment_type|fare_amount|extra|mta_tax|tip_amount|tolls_amount|improvement_surcharge|total_amount|congestion_surcharge|Airport_fee|\n",
            "+--------+--------------------+---------------------+---------------+-------------+----------+------------------+------------+------------+------------+-----------+-----+-------+----------+------------+---------------------+------------+--------------------+-----------+\n",
            "|       1| 2025-01-01 00:18:38|  2025-01-01 00:26:59|              1|          1.6|         1|                 N|         229|         237|           1|       10.0|  3.5|    0.5|       3.0|         0.0|                  1.0|        18.0|                 2.5|        0.0|\n",
            "|       1| 2025-01-01 00:32:40|  2025-01-01 00:35:13|              1|          0.5|         1|                 N|         236|         237|           1|        5.1|  3.5|    0.5|      2.02|         0.0|                  1.0|       12.12|                 2.5|        0.0|\n",
            "|       1| 2025-01-01 00:44:04|  2025-01-01 00:46:01|              1|          0.6|         1|                 N|         141|         141|           1|        5.1|  3.5|    0.5|       2.0|         0.0|                  1.0|        12.1|                 2.5|        0.0|\n",
            "|       2| 2025-01-01 00:14:27|  2025-01-01 00:20:01|              3|         0.52|         1|                 N|         244|         244|           2|        7.2|  1.0|    0.5|       0.0|         0.0|                  1.0|         9.7|                 0.0|        0.0|\n",
            "|       2| 2025-01-01 00:21:34|  2025-01-01 00:25:06|              3|         0.66|         1|                 N|         244|         116|           2|        5.8|  1.0|    0.5|       0.0|         0.0|                  1.0|         8.3|                 0.0|        0.0|\n",
            "+--------+--------------------+---------------------+---------------+-------------+----------+------------------+------------+------------+------------+-----------+-----+-------+----------+------------+---------------------+------------+--------------------+-----------+\n",
            "only showing top 5 rows\n",
            "\n"
          ]
        }
      ]
    },
    {
      "cell_type": "code",
      "source": [
        "print(f\"Total Records: {df.count():,}\")"
      ],
      "metadata": {
        "colab": {
          "base_uri": "https://localhost:8080/"
        },
        "id": "z2k5RaT2ni88",
        "outputId": "e022e1d1-6cb9-4ce7-c7fe-5706b7a79f33"
      },
      "execution_count": 20,
      "outputs": [
        {
          "output_type": "stream",
          "name": "stdout",
          "text": [
            "Total Records: 3,475,226\n"
          ]
        }
      ]
    },
    {
      "cell_type": "code",
      "source": [
        "sample_df = df.sample(fraction=0.01, seed=42)\n",
        "sample_df.printSchema()\n",
        "sample_df.show(5)"
      ],
      "metadata": {
        "colab": {
          "base_uri": "https://localhost:8080/"
        },
        "id": "-vVidGamnlGC",
        "outputId": "cddf2d57-dd09-4da1-ba44-e3817d06ef7c"
      },
      "execution_count": 21,
      "outputs": [
        {
          "output_type": "stream",
          "name": "stdout",
          "text": [
            "root\n",
            " |-- VendorID: integer (nullable = true)\n",
            " |-- tpep_pickup_datetime: timestamp_ntz (nullable = true)\n",
            " |-- tpep_dropoff_datetime: timestamp_ntz (nullable = true)\n",
            " |-- passenger_count: long (nullable = true)\n",
            " |-- trip_distance: double (nullable = true)\n",
            " |-- RatecodeID: long (nullable = true)\n",
            " |-- store_and_fwd_flag: string (nullable = true)\n",
            " |-- PULocationID: integer (nullable = true)\n",
            " |-- DOLocationID: integer (nullable = true)\n",
            " |-- payment_type: long (nullable = true)\n",
            " |-- fare_amount: double (nullable = true)\n",
            " |-- extra: double (nullable = true)\n",
            " |-- mta_tax: double (nullable = true)\n",
            " |-- tip_amount: double (nullable = true)\n",
            " |-- tolls_amount: double (nullable = true)\n",
            " |-- improvement_surcharge: double (nullable = true)\n",
            " |-- total_amount: double (nullable = true)\n",
            " |-- congestion_surcharge: double (nullable = true)\n",
            " |-- Airport_fee: double (nullable = true)\n",
            "\n",
            "+--------+--------------------+---------------------+---------------+-------------+----------+------------------+------------+------------+------------+-----------+-----+-------+----------+------------+---------------------+------------+--------------------+-----------+\n",
            "|VendorID|tpep_pickup_datetime|tpep_dropoff_datetime|passenger_count|trip_distance|RatecodeID|store_and_fwd_flag|PULocationID|DOLocationID|payment_type|fare_amount|extra|mta_tax|tip_amount|tolls_amount|improvement_surcharge|total_amount|congestion_surcharge|Airport_fee|\n",
            "+--------+--------------------+---------------------+---------------+-------------+----------+------------------+------------+------------+------------+-----------+-----+-------+----------+------------+---------------------+------------+--------------------+-----------+\n",
            "|       2| 2025-01-01 00:37:00|  2025-01-01 00:50:26|              2|         2.15|         1|                 N|         164|         125|           1|       14.2|  1.0|    0.5|      2.88|         0.0|                  1.0|       22.08|                 2.5|        0.0|\n",
            "|       2| 2025-01-01 00:26:05|  2025-01-01 00:31:56|              1|         0.95|         1|                 N|         236|         262|           2|        7.2|  1.0|    0.5|       0.0|         0.0|                  1.0|        12.2|                 2.5|        0.0|\n",
            "|       2| 2025-01-01 00:48:11|  2025-01-01 00:53:42|              1|         0.98|         1|                 N|         237|         229|           1|        7.2|  1.0|    0.5|      2.44|         0.0|                  1.0|       14.64|                 2.5|        0.0|\n",
            "|       1| 2025-01-01 00:32:22|  2025-01-01 00:43:35|              1|          2.0|         1|                 N|         249|          13|           4|       11.4|  3.5|    0.5|       0.0|         0.0|                  1.0|        16.4|                 2.5|        0.0|\n",
            "|       2| 2025-01-01 00:40:46|  2025-01-01 01:04:19|              1|         2.53|         1|                 N|         141|         107|           1|       21.2|  1.0|    0.5|      5.24|         0.0|                  1.0|       31.44|                 2.5|        0.0|\n",
            "+--------+--------------------+---------------------+---------------+-------------+----------+------------------+------------+------------+------------+-----------+-----+-------+----------+------------+---------------------+------------+--------------------+-----------+\n",
            "only showing top 5 rows\n",
            "\n"
          ]
        }
      ]
    },
    {
      "cell_type": "markdown",
      "source": [
        "#Data Cleaning"
      ],
      "metadata": {
        "id": "l6JRWpcnnwaE"
      }
    },
    {
      "cell_type": "code",
      "source": [
        "from pyspark.sql.functions import col, when, count\n",
        "\n",
        "# Check null percentages\n",
        "null_counts = df.select([count(when(col(c).isNull(), c)).alias(c) for c in df.columns])\n",
        "null_counts.show(vertical=True)\n",
        "\n",
        "# Drop rows with missing vals\n",
        "clean_df = df.na.drop(subset=[\n",
        "    \"tpep_pickup_datetime\",\n",
        "    \"tpep_dropoff_datetime\",\n",
        "    \"PULocationID\",\n",
        "    \"DOLocationID\",\n",
        "    \"passenger_count\",\n",
        "    \"trip_distance\",\n",
        "    \"total_amount\"\n",
        "])"
      ],
      "metadata": {
        "colab": {
          "base_uri": "https://localhost:8080/"
        },
        "id": "_rBtvpwmnRhI",
        "outputId": "c504d6cd-c79c-475d-e846-ab06de1ab5ac"
      },
      "execution_count": 22,
      "outputs": [
        {
          "output_type": "stream",
          "name": "stdout",
          "text": [
            "-RECORD 0-----------------------\n",
            " VendorID              | 0      \n",
            " tpep_pickup_datetime  | 0      \n",
            " tpep_dropoff_datetime | 0      \n",
            " passenger_count       | 540149 \n",
            " trip_distance         | 0      \n",
            " RatecodeID            | 540149 \n",
            " store_and_fwd_flag    | 540149 \n",
            " PULocationID          | 0      \n",
            " DOLocationID          | 0      \n",
            " payment_type          | 0      \n",
            " fare_amount           | 0      \n",
            " extra                 | 0      \n",
            " mta_tax               | 0      \n",
            " tip_amount            | 0      \n",
            " tolls_amount          | 0      \n",
            " improvement_surcharge | 0      \n",
            " total_amount          | 0      \n",
            " congestion_surcharge  | 540149 \n",
            " Airport_fee           | 540149 \n",
            "\n"
          ]
        }
      ]
    },
    {
      "cell_type": "code",
      "source": [
        "# Define reasonable ranges\n",
        "clean_df = clean_df.filter( (col(\"passenger_count\") > 0) &\n",
        "    (col(\"passenger_count\") <= 6) &\n",
        "    (col(\"trip_distance\") > 0) &\n",
        "    (col(\"trip_distance\") <= 100) &  # 100 miles max\n",
        "    (col(\"total_amount\") > 0) &\n",
        "    (col(\"total_amount\") <= 500) &   # $500 max fare\n",
        "    (col(\"fare_amount\") > 0))\n",
        ""
      ],
      "metadata": {
        "id": "sPG3S-3An0Gd"
      },
      "execution_count": 23,
      "outputs": []
    },
    {
      "cell_type": "code",
      "source": [
        "from pyspark.sql.functions import datediff\n",
        "\n",
        "clean_df = clean_df.filter(\n",
        "    datediff(col(\"tpep_dropoff_datetime\"), col(\"tpep_pickup_datetime\")) >= 0\n",
        ")"
      ],
      "metadata": {
        "id": "B9dO8PwFn7fv"
      },
      "execution_count": 24,
      "outputs": []
    },
    {
      "cell_type": "markdown",
      "source": [
        "#PeakHourAnalysis"
      ],
      "metadata": {
        "id": "y6cYq96dn9TV"
      }
    },
    {
      "cell_type": "code",
      "source": [
        "from pyspark.sql.functions import hour, dayofweek, month\n",
        "\n",
        "time_df = clean_df.withColumn(\"pickup_hour\", hour(\"tpep_pickup_datetime\")) \\\n",
        "                 .withColumn(\"pickup_day\", dayofweek(\"tpep_pickup_datetime\")) \\\n",
        "                 .withColumn(\"pickup_month\", month(\"tpep_pickup_datetime\"))"
      ],
      "metadata": {
        "id": "8B5cOWt4n79J"
      },
      "execution_count": 25,
      "outputs": []
    },
    {
      "cell_type": "code",
      "source": [
        "from pyspark.sql.functions import count, avg\n",
        "\n",
        "hourly_stats = time_df.groupBy(\"pickup_hour\") \\\n",
        "                     .agg(\n",
        "                         count(\"*\").alias(\"trip_count\"),\n",
        "                         avg(\"total_amount\").alias(\"avg_fare\"),\n",
        "                         avg(\"trip_distance\").alias(\"avg_distance\")\n",
        "                     ) \\\n",
        "                     .orderBy(\"pickup_hour\")"
      ],
      "metadata": {
        "id": "ORRBvr7Dn__c"
      },
      "execution_count": 26,
      "outputs": []
    },
    {
      "cell_type": "code",
      "source": [
        "\n",
        "# Convert to Pandas\n",
        "hourly_pd = hourly_stats.toPandas()\n",
        "\n",
        "# Plot\n",
        "plt.figure(figsize=(12, 6))\n",
        "sns.lineplot(data=hourly_pd, x=\"pickup_hour\", y=\"trip_count\")\n",
        "plt.title(\"Hourly Taxi Demand Pattern\")\n",
        "plt.xlabel(\"Hour of Day\")\n",
        "plt.ylabel(\"Number of Trips\")\n",
        "plt.xticks(range(0, 24))\n",
        "plt.grid()\n",
        "plt.show()"
      ],
      "metadata": {
        "colab": {
          "base_uri": "https://localhost:8080/",
          "height": 564
        },
        "id": "pO_vaxfmoaWX",
        "outputId": "33978fab-0ecb-4b1c-f977-629dc8c4a394"
      },
      "execution_count": 18,
      "outputs": [
        {
          "output_type": "display_data",
          "data": {
            "text/plain": [
              "<Figure size 1200x600 with 1 Axes>"
            ],
            "image/png": "[encoded data removed]"
          },
          "metadata": {}
        }
      ]
    },
    {
      "cell_type": "code",
      "source": [
        "day_stats = time_df.groupBy(\"pickup_day\") \\\n",
        "                  .agg(count(\"*\").alias(\"trip_count\")) \\\n",
        "                  .orderBy(\"pickup_day\")\n",
        "\n",
        "# Convert day numbers to names\n",
        "day_map = {1: \"Sunday\", 2: \"Monday\", 3: \"Tuesday\",\n",
        "           4: \"Wednesday\", 5: \"Thursday\", 6: \"Friday\", 7: \"Saturday\"}"
      ],
      "metadata": {
        "id": "uAyf4sNzogt_"
      },
      "execution_count": 27,
      "outputs": []
    },
    {
      "cell_type": "code",
      "source": [],
      "metadata": {
        "id": "ORgdkfPHqprz"
      },
      "execution_count": null,
      "outputs": []
    },
    {
      "cell_type": "markdown",
      "source": [
        "#Route Analysis"
      ],
      "metadata": {
        "id": "V-Ls_N4Doi2s"
      }
    },
    {
      "cell_type": "code",
      "source": [
        "zones = spark.read.csv(\"taxi_zone_lookup.csv\", header=True)\n",
        "\n",
        "# Join with main data\n",
        "route_df = clean_df.join(zones.alias(\"pickup_zones\"),\n",
        "                        col(\"PULocationID\") == col(\"pickup_zones.LocationID\")) \\\n",
        "                   .join(zones.alias(\"dropoff_zones\"),\n",
        "                        col(\"DOLocationID\") == col(\"dropoff_zones.LocationID\"))"
      ],
      "metadata": {
        "id": "yXUj_LtEokKV"
      },
      "execution_count": 30,
      "outputs": []
    },
    {
      "cell_type": "code",
      "source": [
        "top_routes = route_df.groupBy(\n",
        "    \"pickup_zones.Zone\", \"dropoff_zones.Zone\"\n",
        ").count().orderBy(\"count\", ascending=False).limit(10)\n",
        "top_routes.show(5)"
      ],
      "metadata": {
        "colab": {
          "base_uri": "https://localhost:8080/"
        },
        "id": "Mox4ej3kpJlY",
        "outputId": "302a4acd-6134-4b44-e6c0-103cae7fd133"
      },
      "execution_count": 48,
      "outputs": [
        {
          "output_type": "stream",
          "name": "stdout",
          "text": [
            "+--------------------+--------------------+-----+\n",
            "|                Zone|                Zone|count|\n",
            "+--------------------+--------------------+-----+\n",
            "|Upper East Side S...|Upper East Side N...|23456|\n",
            "|Upper East Side N...|Upper East Side S...|20262|\n",
            "|Upper East Side N...|Upper East Side N...|16401|\n",
            "|Upper East Side S...|Upper East Side S...|15631|\n",
            "|      Midtown Center|Upper East Side S...|10711|\n",
            "+--------------------+--------------------+-----+\n",
            "only showing top 5 rows\n",
            "\n"
          ]
        }
      ]
    },
    {
      "cell_type": "code",
      "source": [
        "from pyspark.sql.functions import unix_timestamp\n",
        "\n",
        "route_duration = route_df.withColumn(\n",
        "    \"trip_duration_minutes\",\n",
        "    (unix_timestamp(\"tpep_dropoff_datetime\") -\n",
        "     unix_timestamp(\"tpep_pickup_datetime\")) / 60\n",
        ").filter(col(\"trip_duration_minutes\") > 0)\n",
        "\n",
        "avg_duration = route_duration.groupBy(\n",
        "    \"pickup_zones.Zone\", \"dropoff_zones.Zone\"\n",
        ").agg(\n",
        "    avg(\"trip_duration_minutes\").alias(\"avg_duration\"),\n",
        "    count(\"*\").alias(\"trip_count\")\n",
        ").filter(col(\"trip_count\") > 100).orderBy(\"avg_duration\", ascending=False)"
      ],
      "metadata": {
        "id": "Z39SOUZFpKEU"
      },
      "execution_count": 32,
      "outputs": []
    },
    {
      "cell_type": "code",
      "source": [
        "from pyspark.sql.functions import when, dayofweek, hour\n",
        "\n",
        "model_df = clean_df.withColumn(\n",
        "    \"is_weekend\",\n",
        "    when((dayofweek(\"tpep_pickup_datetime\") == 1) |\n",
        "         (dayofweek(\"tpep_pickup_datetime\") == 7), 1).otherwise(0)\n",
        ").withColumn(\n",
        "    \"is_rush_hour\",\n",
        "    when(\n",
        "        ((hour(\"tpep_pickup_datetime\") >= 7) &\n",
        "         (hour(\"tpep_pickup_datetime\") <= 10)) |\n",
        "        ((hour(\"tpep_pickup_datetime\") >= 16) &\n",
        "         (hour(\"tpep_pickup_datetime\") <= 19)), 1\n",
        "    ).otherwise(0)\n",
        ")\n"
      ],
      "metadata": {
        "id": "sQAbD8zepL-a"
      },
      "execution_count": 37,
      "outputs": []
    },
    {
      "cell_type": "code",
      "source": [
        "train, test = model_df.randomSplit([0.8, 0.2], seed=42)"
      ],
      "metadata": {
        "id": "Rm7umLN4prRD"
      },
      "execution_count": 38,
      "outputs": []
    },
    {
      "cell_type": "code",
      "source": [
        "from pyspark.ml import Pipeline\n",
        "from pyspark.ml.feature import VectorAssembler, StringIndexer\n",
        "from pyspark.ml.regression import RandomForestRegressor\n",
        "\n",
        "# Feature columns\n",
        "feature_cols = [\n",
        "    \"trip_distance\",\n",
        "    \"passenger_count\",\n",
        "    \"PULocationID\",\n",
        "    \"DOLocationID\",\n",
        "    \"is_weekend\",\n",
        "    \"is_rush_hour\"\n",
        "]\n",
        "\n",
        "# Pipeline stages\n",
        "assembler = VectorAssembler(inputCols=feature_cols, outputCol=\"features\")\n",
        "rf = RandomForestRegressor(featuresCol=\"features\", labelCol=\"total_amount\")\n",
        "\n",
        "pipeline = Pipeline(stages=[assembler, rf])\n",
        "model = pipeline.fit(train)"
      ],
      "metadata": {
        "id": "wWp5q0-9psyU"
      },
      "execution_count": 39,
      "outputs": []
    },
    {
      "cell_type": "code",
      "source": [
        "from pyspark.ml.evaluation import RegressionEvaluator\n",
        "\n",
        "predictions = model.transform(test)\n",
        "\n",
        "evaluator = RegressionEvaluator(\n",
        "    labelCol=\"total_amount\",\n",
        "    predictionCol=\"prediction\",\n",
        "    metricName=\"rmse\"\n",
        ")\n",
        "\n",
        "rmse = evaluator.evaluate(predictions)\n",
        "print(f\"Root Mean Squared Error (RMSE): {rmse}\")"
      ],
      "metadata": {
        "colab": {
          "base_uri": "https://localhost:8080/"
        },
        "id": "kVYHPHEUpuaE",
        "outputId": "f9154058-0a12-4a03-a3cf-93ca46f3d7b0"
      },
      "execution_count": 40,
      "outputs": [
        {
          "output_type": "stream",
          "name": "stdout",
          "text": [
            "Root Mean Squared Error (RMSE): 8.699439526545813\n"
          ]
        }
      ]
    },
    {
      "cell_type": "code",
      "source": [
        "rf_model = model.stages[-1]\n",
        "importances = rf_model.featureImportances.toArray()\n",
        "\n",
        "feature_importance = pd.DataFrame({\n",
        "    \"feature\": feature_cols,\n",
        "    \"importance\": importances\n",
        "}).sort_values(\"importance\", ascending=False)"
      ],
      "metadata": {
        "id": "L6BIZXCypv3_"
      },
      "execution_count": 43,
      "outputs": []
    },
    {
      "cell_type": "code",
      "source": [
        "model.save(\"nyc_taxi_fare_model\")"
      ],
      "metadata": {
        "id": "wtYCzrRupyYc"
      },
      "execution_count": 44,
      "outputs": []
    }
  ]
}